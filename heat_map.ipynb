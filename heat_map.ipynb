{
 "cells": [
  {
   "cell_type": "code",
   "execution_count": 1,
   "metadata": {
    "collapsed": true,
    "deletable": true,
    "editable": true
   },
   "outputs": [],
   "source": [
    "#Importing required packages.  For example: MATLAB imports nearly ALL PACKAGES!\n",
    "import matplotlib.pyplot as plt\n",
    "import pandas as pd\n",
    "from io import StringIO\n",
    "import numpy as np"
   ]
  },
  {
   "cell_type": "code",
   "execution_count": 10,
   "metadata": {
    "collapsed": false,
    "deletable": true,
    "editable": true
   },
   "outputs": [],
   "source": [
    "#Importing data file visits_by_day_hour_2.csv and plotting it as a heat map.\n",
    "# At the moment, some sort of linear interpolation is being used to interpolate data.\n",
    "plt.close()\n",
    "df_hrday=pd.read_csv('visits_by_day_hour_2.csv', skiprows=[0,1,2])\n",
    "#print df_hrday\n",
    "df_hrday=df_hrday.pivot('DayName', 'Group1', 'SignInCount')\n",
    "X=df_hrday.columns.values\n",
    "Y=df_hrday.index.values\n",
    "Z=df_hrday.values\n",
    "x,y=np.meshgrid(X, Y, sparse=True)\n",
    "#levels = np.linspace(0, 150, 10)\n",
    "#cp=plt.contourf(X, Y, Z, 25, levels=levels, cmap=\"jet\", interpolation=\"none\")\n",
    "cp=plt.contourf(X, Y, Z, 300, cmap=\"jet\", interpolation='nearest')\n",
    "#plt.clabel(cp, colors = 'k', fmt = '%2.1f', fontsize=12)\n",
    "plt.colorbar(cp)\n",
    "plt.xlabel('Time [24 hour format]', size=14)\n",
    "plt.ylabel('Day of week [1=Monday, 2=Tuesday...]', size=14)\n",
    "plt.xlim(1000,1800)\n",
    "#plt.show()\n",
    "plt.savefig('usage_heat_map_0817.pdf', dpi=450, orientation='landscape', bbox_inches='tight')\n",
    "plt.close()"
   ]
  },
  {
   "cell_type": "code",
   "execution_count": null,
   "metadata": {
    "collapsed": true,
    "deletable": true,
    "editable": true
   },
   "outputs": [],
   "source": []
  }
 ],
 "metadata": {
  "kernelspec": {
   "display_name": "Python 2",
   "language": "python",
   "name": "python2"
  },
  "language_info": {
   "codemirror_mode": {
    "name": "ipython",
    "version": 2
   },
   "file_extension": ".py",
   "mimetype": "text/x-python",
   "name": "python",
   "nbconvert_exporter": "python",
   "pygments_lexer": "ipython2",
   "version": "2.7.12"
  }
 },
 "nbformat": 4,
 "nbformat_minor": 2
}
